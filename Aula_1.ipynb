{
  "nbformat": 4,
  "nbformat_minor": 0,
  "metadata": {
    "colab": {
      "name": "Aula_1.ipynb",
      "provenance": [],
      "collapsed_sections": [],
      "mount_file_id": "13t_eZndpuKtWWW_7oNmjcFQ1q3BcbqBQ",
      "authorship_tag": "ABX9TyN1gGI4C5Hbuhr1Rz5+zr5v",
      "include_colab_link": true
    },
    "kernelspec": {
      "name": "python3",
      "display_name": "Python 3"
    },
    "language_info": {
      "name": "python"
    }
  },
  "cells": [
    {
      "cell_type": "markdown",
      "metadata": {
        "id": "view-in-github",
        "colab_type": "text"
      },
      "source": [
        "<a href=\"https://colab.research.google.com/github/nunesjoao/ENG1111/blob/main/Aula_1.ipynb\" target=\"_parent\"><img src=\"https://colab.research.google.com/assets/colab-badge.svg\" alt=\"Open In Colab\"/></a>"
      ]
    },
    {
      "cell_type": "markdown",
      "source": [
        ""
      ],
      "metadata": {
        "id": "rf_Kh-oZsgvS"
      }
    },
    {
      "cell_type": "markdown",
      "source": [
        "# **ENG1111 PROJETO DE SOFTWARE**"
      ],
      "metadata": {
        "id": "0_ww5DRa6OS2"
      }
    },
    {
      "cell_type": "markdown",
      "source": [
        "### Seja bem vindo ao curso ENG1111\n",
        "\n",
        "Nesta primeira aula vamos aprender a utilizar o Google Colab e iniciaremos uma revisão de Python.\n",
        "\n",
        "Neste curso utilizaremos a plataforma Google Colab. Aqui podemos apresentar conteúdo e executar código. Os arquivos (Notebooks) podems ser sincronizados com o Github e Google drive, permitindo que o aluno trabalhe remotamente de forma fácil.\n",
        "\n",
        "O primeiro passo é criar uma conta no Github. Vamos utilizar para fazermos o versionamento do nosso código. \n",
        "\n",
        "Agora acesse a sua conta do Google e vá em http://colab.research.google.com.\n",
        "\n",
        "Para abrir um novo notebook, vá no menu Arquivo / novo notebook. Os notebooks são documentos que permitem tanto texto quanto código. O código apresentado na tela é executado em um servidor remoto do Google. Essa flexibilidade nos permitirá treinar os nosso modelos utilizando GPU (placas de vídeo), sem a necessidade de instalar e configurar as bibliotecas localmente.\n",
        "\n",
        "O google Colab está disponpivel em uma versão free (a que estamos utilizando) e uma verão paga. A versão paga nos permitirá rodar nossos modelos em uma máquina com maior poder de processamento, continuar a execução do código mesmo com o navegador fechado, entre outros recursos. \n",
        "\n"
      ],
      "metadata": {
        "id": "Kw_llV7Qsigq"
      }
    },
    {
      "cell_type": "markdown",
      "source": [
        ""
      ],
      "metadata": {
        "id": "Gij1z1209rLz"
      }
    },
    {
      "cell_type": "markdown",
      "source": [
        "# **Aula 1 (REVISÃO DE PYTHON):Listas,Dicionários, Sets & JSON** \n",
        "\n"
      ],
      "metadata": {
        "id": "DTLch8I595l_"
      }
    },
    {
      "cell_type": "markdown",
      "source": [
        "Vamos começar recordado as listas. Em Python uma lista pode conter tipos diferentes: String, inteiros, floating... "
      ],
      "metadata": {
        "id": "pelI5YVy-K4a"
      }
    },
    {
      "cell_type": "code",
      "source": [
        "frutas = ['banana', 'maca','pera','uva']\n",
        "print(frutas)"
      ],
      "metadata": {
        "id": "fd99s6lUADp1"
      },
      "execution_count": null,
      "outputs": []
    },
    {
      "cell_type": "code",
      "source": [
        "# Adcionando elementos em uma lista\n",
        "\n",
        "frutas.append('jaca')\n",
        "\n",
        "# Removendo elementos de uma lista\n",
        "\n",
        "frutas.remove('maca')\n",
        "\n",
        "print(frutas)\n",
        "\n",
        "\n",
        "# iterando com  for\n",
        "\n",
        "for f in frutas:\n",
        "  print(f)\n",
        "\n",
        "\n"
      ],
      "metadata": {
        "id": "MdX96FA9ArzA"
      },
      "execution_count": null,
      "outputs": []
    },
    {
      "cell_type": "code",
      "source": [
        "# SETS é um tipo de dado similar as listas, com a diferença de que apenas uma ocorrência do mesmo elemento é permitida\n",
        "\n",
        "\n",
        "\n",
        "cordas = {'viola','violino','contrabaixo'}\n",
        "metais = {'trompete','saxofone','trobone'}\n",
        "\n",
        "print(cordas)\n",
        "\n",
        "print(metais)\n",
        "\n",
        "# Repare que a ordem que os elementos aparecem é diferente da ordem que eles foram lançados. Isto porque sets não são ordenados nem indexados como listas.\n",
        "\n",
        "# Adcionando dados a sets\n",
        "\n",
        "cordas.add('violino')\n",
        "\n",
        "# Como o elemento já existe, o set continuará igual.\n",
        "\n",
        "# caso seja necessário ordenar um SET, podemos utilizar:\n",
        "\n",
        "sorted(cordas, reverse = True)\n",
        "\n",
        "# SETS são frequentemente utilizados para operações de conjutos: União, interseção, diferença e Diferença Simétrica\n",
        "\n",
        "cordas2 = {'viola','guitarra','ukulele'}\n",
        "metal2 = {'saxofone','trombone','trompa'}\n",
        "\n",
        "\n",
        "#união\n",
        "orquestra = cordas.union(cordas2)\n",
        "\n",
        "#interseção\n",
        "cordas3 = cordas2.intersection(cordas)\n",
        "\n",
        "print(cordas3)\n",
        "\n",
        "print(orquestra)\n",
        "\n"
      ],
      "metadata": {
        "id": "RwQ5L12GD9vd"
      },
      "execution_count": null,
      "outputs": []
    },
    {
      "cell_type": "markdown",
      "source": [
        "# **DICIONÁRIOS** \n",
        "\n",
        "Linguagens de programação moderna, apresentam tipos de dados sofisticados. Em Python um dicionário é um coleção de pares de nome-valor. Este tipo de implementação torna o acesso aos dados mais rápido.\n"
      ],
      "metadata": {
        "id": "JoxaiNmcfDgZ"
      }
    },
    {
      "cell_type": "code",
      "source": [
        "# Decalrando um dicionário:\n",
        "\n",
        "aluno = {'nome':'Joao','idade':41,'curso':'engenharia'}\n",
        "\n",
        "# Acessando o dicionário por meio da chave\n",
        "\n",
        "print(aluno)\n",
        "print(aluno['nome'])\n",
        "\n",
        "# Tentando acessar uma chave não definida resulta em erro.\n",
        "# print(aluno[peso])\n",
        "\n",
        "\n",
        "# Acessando todas as chaves\n",
        "\n",
        "print (f\" Key: {aluno.keys()}\")\n",
        "\n",
        "# Acessando todos os valores\n",
        "\n",
        "print (f\" Key:{aluno.values()}\")\n",
        "\n",
        "# Combinando Listas e Dicionários ! Podemos criar estruturas de dados complexas que podem ser usados em conjunto com JSON.\n",
        "\n",
        "\n",
        "# a estrutura abaixo é uma lista de dicionários onde nome,idade e curso são chaves.\n",
        "\n",
        "alunos = [{'nome':'Joao','idade':41,'curso':'engenharia'},{'nome':'Zeca','idade':19,'curso':'oboé'},{'nome':'Carla','idade':22,'curso':'cinema'}]\n",
        "\n",
        "\n",
        "\n",
        "\n",
        "print(alunos)\n",
        "\n",
        "#iterando na lista com for\n",
        "\n",
        "for a in alunos:\n",
        "  print(f\"{a['nome']}\")\n",
        "\n",
        "\n",
        "\n",
        "# A estrutura abaixo é uma lista de dicionários onde nome,idade,curso são chaves, mas agora o campo curso é uma lista. Podemos aninhar lista e maps.\n",
        "\n",
        "\n",
        "alunos2 = [\n",
        "    {'nome':'Joao','idade':41,'curso':['engenharia','gastronomia']},{'nome':'Zeca','idade':19,'curso':['oboé','literatura']},{'nome':'Carla','idade':22,'curso':['cinema','dança']}\n",
        "]\n",
        "\n",
        "#iterando na lista de dicionários e usando o método .get \n",
        "\n",
        "for b in alunos2:\n",
        "  print(f\"{b['nome']}:{b.get('curso')}\")\n",
        "\n",
        "\n"
      ],
      "metadata": {
        "id": "wnLQfFg1pXfm"
      },
      "execution_count": null,
      "outputs": []
    },
    {
      "cell_type": "markdown",
      "source": [
        "INTRODUÇÃO A JSON\n",
        "\n",
        "JSON (java script Object Notation) é um padrão aberto de troca de dados que utiliza o padrão chave-dado em forma de texto. Embora tenha em seu nome Javascript, o padrão é utilizado nas mais diversas linguagens. JSON pode ser visto como listas de dicionários organizados de uma forma Hierárquica.\n",
        "\n",
        "\n",
        "Exemplo:\n",
        "\n",
        "    {\n",
        "      \"nome\": \"Joca\",\n",
        "      \"sobrenome: \"nunes\",\n",
        "      \"idade\": 41,\n",
        "      \"estavivo\": True,\n",
        "      \"cidade\": \"Rio de Janeiro\"\n",
        "      \"endereços\": {\n",
        "        \"Rua real grandeza\",\n",
        "        \"Rua euclides da cunha\"\n",
        "      }\n",
        "  \n",
        "\n",
        "Podemos notar que a estrutura acima muito se parece com uma estrura de listas e dicionários em Python. JSON requer aspas para chaves e strings.\n",
        "\n",
        "Python possui suporte a JSON. Podemos carregar JSON de arquivos, urls ou declarar diretamente no código.\n",
        "\n",
        "\n"
      ],
      "metadata": {
        "id": "brmyIMiR4Aqz"
      }
    },
    {
      "cell_type": "code",
      "source": [
        "#Convertendo Strings em um dicionário\n",
        "\n",
        "import json\n",
        "\n",
        "dados_JSON =  \"\"\"\n",
        "{\n",
        "  \"nome\": \"Joca\",\n",
        "  \"sobrenome\": \"nunes\",\n",
        "  \"idade\": 41,\n",
        "  \"estavivo\": \"SIM\",\n",
        "  \"cidade\": \"Rio de Janeiro\"\n",
        "  }\n",
        "\"\"\"\n",
        "\n",
        "#converte a string JSON em um dicionário\n",
        "\n",
        "dados_dicionario = json.loads(dados_JSON)\n",
        "\n",
        "# Agora podemos tratar os dados como dicionários\n",
        "\n",
        "\n",
        "#Acessando uma chave específica\n",
        "\n",
        "print(dados_dicionario['idade']) \n",
        "\n",
        "#Imprimindo todas as chaves\n",
        "print (f\"Key: {dados_dicionario.keys()}\")\n",
        "\n",
        "\n"
      ],
      "metadata": {
        "id": "-kmTxqD2eIkt"
      },
      "execution_count": null,
      "outputs": []
    },
    {
      "cell_type": "code",
      "source": [
        "#Carregando arquivos JSON diretamente de um url.\n",
        "\n",
        "import json\n",
        "import requests\n",
        "\n",
        "# A biblioteca requests \"baixa\" o dado com a função .get\n",
        "\n",
        "r = requests.get(\"https://api.github.com/\")\n",
        "\n",
        "# A biblioteca requets possui um decodificador json \n",
        "print(r.json())\n"
      ],
      "metadata": {
        "id": "x0lrNUvGXlIk"
      },
      "execution_count": null,
      "outputs": []
    },
    {
      "cell_type": "markdown",
      "source": [
        "Podemos ter a necessidade de converter dicionários Python em arquivos JSON, para isso usamos a função \"dumps\". Esta função retorna uma string."
      ],
      "metadata": {
        "id": "FKrRVPxQoRwl"
      }
    },
    {
      "cell_type": "code",
      "source": [
        "obj = {\"estilo\":\"samba\",\"duracao\":450,\"hit\":False}\n",
        "\n",
        "print(json.dumps(obj))\n",
        "\n",
        "#Repare que o último valor \"False\" foi alterado para \"false\". Isso porque em JSON esta é forma correta de se usar tipos binário.\n",
        "\n"
      ],
      "metadata": {
        "id": "bX9hfTFvoj2N"
      },
      "execution_count": null,
      "outputs": []
    },
    {
      "cell_type": "markdown",
      "source": [
        "Trabalhando com arquivos e JSON.\n",
        "\n",
        "Uma vez convertidos os dados em formato JSON. Muitas vezes teremos a necessidade de salva-los. Na plataforma Colab, podemos utilizar o google drive para salvar e carregar arquivos."
      ],
      "metadata": {
        "id": "FzvqzPrQumxf"
      }
    },
    {
      "cell_type": "code",
      "source": [
        "from google.colab import drive\n",
        "drive.mount('/content/drive')\n",
        "\n"
      ],
      "metadata": {
        "id": "0aNfaBNKvHLC"
      },
      "execution_count": null,
      "outputs": []
    },
    {
      "cell_type": "code",
      "source": [
        "\n",
        "#Carrega um arquivo JSON do Drive \n",
        "\n",
        "with open('/content/drive/My Drive/pizzas.json') as file:\n",
        "  dados = json.load(file)\n",
        "\n",
        "print(dados)\n",
        "\n",
        "\n",
        "\n"
      ],
      "metadata": {
        "id": "bN-Hk-yvwgCB"
      },
      "execution_count": null,
      "outputs": []
    },
    {
      "cell_type": "code",
      "source": [
        "# Salva um arquivo JSON no drive\n",
        "\n",
        "obj = {\"estilo\":\"samba\",\"duracao\":450,\"hit\":False}\n",
        "\n",
        "print(json.dumps(obj))\n",
        "\n",
        "dado = json.dumps(obj)\n",
        "\n",
        "with  open('/content/drive/My Drive/teste.json', 'w') as file:\n",
        "  file.write(dado)"
      ],
      "metadata": {
        "id": "LZMAK0F1yKg5"
      },
      "execution_count": null,
      "outputs": []
    }
  ]
}