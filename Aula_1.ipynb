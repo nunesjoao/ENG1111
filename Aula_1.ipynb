{
  "nbformat": 4,
  "nbformat_minor": 0,
  "metadata": {
    "colab": {
      "name": "Aula_1.ipynb",
      "provenance": [],
      "collapsed_sections": [],
      "mount_file_id": "13t_eZndpuKtWWW_7oNmjcFQ1q3BcbqBQ",
      "authorship_tag": "ABX9TyNHcfuGp/6mxDwXsiBxNx7K",
      "include_colab_link": true
    },
    "kernelspec": {
      "name": "python3",
      "display_name": "Python 3"
    },
    "language_info": {
      "name": "python"
    }
  },
  "cells": [
    {
      "cell_type": "markdown",
      "metadata": {
        "id": "view-in-github",
        "colab_type": "text"
      },
      "source": [
        "<a href=\"https://colab.research.google.com/github/nunesjoao/ENG1111/blob/main/Aula_1.ipynb\" target=\"_parent\"><img src=\"https://colab.research.google.com/assets/colab-badge.svg\" alt=\"Open In Colab\"/></a>"
      ]
    },
    {
      "cell_type": "markdown",
      "source": [
        ""
      ],
      "metadata": {
        "id": "rf_Kh-oZsgvS"
      }
    },
    {
      "cell_type": "markdown",
      "source": [
        "# **ENG1111 PROJETO DE SOFTWARE**"
      ],
      "metadata": {
        "id": "0_ww5DRa6OS2"
      }
    },
    {
      "cell_type": "markdown",
      "source": [
        "### Seja bem vindo ao curso ENG1111\n",
        "\n",
        "Nesta primeira aula vamos aprender a utilizar o Google Colab e iniciaremos uma revisão de Python.\n",
        "\n",
        "Neste curso utilizaremos a plataforma Google Colab. Aqui podemos apresentar conteúdo e executar código. Os arquivos (Notebooks) podems ser sincronizados com o Github e Google drive, permitindo que o aluno trabalhe remotamente de forma fácil.\n",
        "\n",
        "O primeiro passo é criar uma conta no Github. Vamos utilizar para fazermos o versionamento do nosso código. \n",
        "\n",
        "Agora acesse a sua conta do Google e vá em http://colab.research.google.com.\n",
        "\n",
        "Para abrir um novo notebook, vá no menu Arquivo / novo notebook. Os notebooks são documentos que permitem tanto texto quanto código. O código apresentado na tela é executado em um servidor remoto do Google. Essa flexibilidade nos permitirá treinar os nosso modelos utilizando GPU (placas de vídeo), sem a necessidade de instalar e configurar as bibliotecas localmente.\n",
        "\n",
        "O google Colab está disponpivel em uma versão free (a que estamos utilizando) e uma verão paga. A versão paga nos permitirá rodar nossos modelos em uma máquina com maior poder de processamento, continuar a execução do código mesmo com o navegador fechado, entre outros recursos. \n",
        "\n"
      ],
      "metadata": {
        "id": "Kw_llV7Qsigq"
      }
    },
    {
      "cell_type": "markdown",
      "source": [
        ""
      ],
      "metadata": {
        "id": "Gij1z1209rLz"
      }
    },
    {
      "cell_type": "markdown",
      "source": [
        "# **Aula 1 (REVISÃO DE PYTHON):Listas,Dicionários, Sets & JSON** \n",
        "\n"
      ],
      "metadata": {
        "id": "DTLch8I595l_"
      }
    },
    {
      "cell_type": "markdown",
      "source": [
        "Vamos começar recordado as listas. Em Python uma lista pode conter tipos diferentes: String, inteiros, floating... "
      ],
      "metadata": {
        "id": "pelI5YVy-K4a"
      }
    },
    {
      "cell_type": "code",
      "source": [
        "frutas = ['banana', 'maca','pera','uva']\n",
        "print(frutas)"
      ],
      "metadata": {
        "colab": {
          "base_uri": "https://localhost:8080/"
        },
        "id": "fd99s6lUADp1",
        "outputId": "677c0f37-3359-46d0-9f44-acf5001c87ed"
      },
      "execution_count": null,
      "outputs": [
        {
          "output_type": "stream",
          "name": "stdout",
          "text": [
            "['banana', 'maca', 'pera', 'uva']\n"
          ]
        }
      ]
    },
    {
      "cell_type": "code",
      "source": [
        "# Adcionando elementos em uma lista\n",
        "\n",
        "frutas.append('jaca')\n",
        "\n",
        "# Removendo elementos de uma lista\n",
        "\n",
        "frutas.remove('maca')\n",
        "\n",
        "print(frutas)\n",
        "\n",
        "\n",
        "# iterando com  for\n",
        "\n",
        "for f in frutas:\n",
        "  print(f)\n",
        "\n",
        "\n"
      ],
      "metadata": {
        "colab": {
          "base_uri": "https://localhost:8080/"
        },
        "id": "MdX96FA9ArzA",
        "outputId": "2b4d767a-ba99-4039-a731-d57f8b72dece"
      },
      "execution_count": null,
      "outputs": [
        {
          "output_type": "stream",
          "name": "stdout",
          "text": [
            "['banana', 'pera', 'uva', 'jaca']\n",
            "banana\n",
            "pera\n",
            "uva\n",
            "jaca\n"
          ]
        }
      ]
    },
    {
      "cell_type": "code",
      "source": [
        "# SETS é um tipo de dado similar as listas, com a diferença de que apenas uma ocorrência do mesmo elemento é permitida\n",
        "\n",
        "\n",
        "\n",
        "cordas = {'viola','violino','contrabaixo'}\n",
        "metais = {'trompete','saxofone','trobone'}\n",
        "\n",
        "print(cordas)\n",
        "\n",
        "print(metais)\n",
        "\n",
        "# Repare que a ordem que os elementos aparecem é diferente da ordem que eles foram lançados. Isto porque sets não são ordenados nem indexados como listas.\n",
        "\n",
        "# Adcionando dados a sets\n",
        "\n",
        "cordas.add('violino')\n",
        "\n",
        "# Como o elemento já existe, o set continuará igual.\n",
        "\n",
        "# caso seja necessário ordenar um SET, podemos utilizar:\n",
        "\n",
        "sorted(cordas, reverse = True)\n",
        "\n",
        "# SETS são frequentemente utilizados para operações de conjutos: União, interseção, diferença e Diferença Simétrica\n",
        "\n",
        "cordas2 = {'viola','guitarra','ukulele'}\n",
        "metal2 = {'saxofone','trombone','trompa'}\n",
        "\n",
        "\n",
        "#união\n",
        "orquestra = cordas.union(cordas2)\n",
        "\n",
        "#interseção\n",
        "cordas3 = cordas2.intersection(cordas)\n",
        "\n",
        "print(cordas3)\n",
        "\n",
        "print(orquestra)\n",
        "\n"
      ],
      "metadata": {
        "colab": {
          "base_uri": "https://localhost:8080/"
        },
        "id": "RwQ5L12GD9vd",
        "outputId": "399682b4-e799-4ab0-fe09-b1046cb35e89"
      },
      "execution_count": null,
      "outputs": [
        {
          "output_type": "stream",
          "name": "stdout",
          "text": [
            "{'viola', 'contrabaixo', 'violino'}\n",
            "{'trobone', 'trompete', 'saxofone'}\n",
            "{'viola'}\n",
            "{'ukulele', 'viola', 'violino', 'contrabaixo', 'guitarra'}\n"
          ]
        }
      ]
    },
    {
      "cell_type": "markdown",
      "source": [
        "# **DICIONÁRIOS** \n",
        "\n",
        "Linguagens de programação moderna, apresentam tipos de dados sofisticados. Em Python um dicionário é um coleção de pares de nome-valor. Este tipo de implementação torna o acesso aos dados mais rápido.\n"
      ],
      "metadata": {
        "id": "JoxaiNmcfDgZ"
      }
    },
    {
      "cell_type": "code",
      "source": [
        "# Decalrando um dicionário:\n",
        "\n",
        "aluno = {'nome':'Joao','idade':41,'curso':'engenharia'}\n",
        "\n",
        "# Acessando o dicionário por meio da chave\n",
        "\n",
        "print(aluno)\n",
        "print(aluno['nome'])\n",
        "\n",
        "# Tentando acessar uma chave não definida resulta em erro.\n",
        "# print(aluno[peso])\n",
        "\n",
        "\n",
        "# Acessando todas as chaves\n",
        "\n",
        "print (f\"Key: {aluno.keys()}\")\n",
        "\n",
        "# Acessando todos os valores\n",
        "\n",
        "print (f\" Key:{aluno.values()}\")\n",
        "\n",
        "# Combinando Listas e Dicionários ! Podemos criar estruturas de dados complexas que podem ser usados em conjunto com JSON.\n",
        "\n",
        "\n",
        "# a estrutura abaixo é uma lista de dicionários onde nome,idade e curso são chaves.\n",
        "\n",
        "alunos = [{'nome':'Joao','idade':41,'curso':'engenharia'},{'nome':'Zeca','idade':19,'curso':'oboé'},{'nome':'Carla','idade':22,'curso':'cinema'}]\n",
        "\n",
        "\n",
        "\n",
        "\n",
        "print(alunos)\n",
        "\n",
        "#iterando na lista com for\n",
        "\n",
        "for a in alunos:\n",
        "  print(f\"{a['nome']}\")\n",
        "\n",
        "\n",
        "\n",
        "# A estrutura abaixo é uma lista de dicionários onde nome,idade,curso são chaves, mas agora o campo curso é uma lista. Podemos aninhar lista e maps.\n",
        "\n",
        "\n",
        "alunos2 = [\n",
        "    {'nome':'Joao','idade':41,'curso':['engenharia','gastronomia']},{'nome':'Zeca','idade':19,'curso':['oboé','literatura']},{'nome':'Carla','idade':22,'curso':['cinema','dança']}\n",
        "]\n",
        "\n",
        "#iterando na lista de dicionários e usando o método .get \n",
        "\n",
        "for b in alunos2:\n",
        "  print(f\"{b['nome']}:{b.get('curso')}\")\n",
        "\n",
        "\n"
      ],
      "metadata": {
        "colab": {
          "base_uri": "https://localhost:8080/"
        },
        "id": "wnLQfFg1pXfm",
        "outputId": "adc940bf-7eb4-4728-a9d3-e04eb08efc0f"
      },
      "execution_count": null,
      "outputs": [
        {
          "output_type": "stream",
          "name": "stdout",
          "text": [
            "{'nome': 'Joao', 'idade': 41, 'curso': 'engenharia'}\n",
            "Joao\n",
            "Key: dict_keys(['nome', 'idade', 'curso'])\n",
            " Key:dict_values(['Joao', 41, 'engenharia'])\n",
            "[{'nome': 'Joao', 'idade': 41, 'curso': 'engenharia'}, {'nome': 'Zeca', 'idade': 19, 'curso': 'oboé'}, {'nome': 'Carla', 'idade': 22, 'curso': 'cinema'}]\n",
            "Joao\n",
            "Zeca\n",
            "Carla\n",
            "Joao:['engenharia', 'gastronomia']\n",
            "Zeca:['oboé', 'literatura']\n",
            "Carla:['cinema', 'dança']\n"
          ]
        }
      ]
    },
    {
      "cell_type": "markdown",
      "source": [
        "INTRODUÇÃO A JSON\n",
        "\n",
        "JASON (java script Object Notation) é um padrão aberto de troca de dados que utiliza o padrão chave-dado em forma de texto. Embora tenha em seu nome Javascript, o padrão é utilizado nas mais diversas linguagens. JSON pode ser visto como listas de dicionários organizados de uma forma Hierárquica.\n",
        "\n",
        "\n",
        "Exemplo:\n",
        "\n",
        "    {\n",
        "      \"nome\": \"Joca\",\n",
        "      \"sobrenome: \"nunes\",\n",
        "      \"idade\": 41,\n",
        "      \"estavivo\": True,\n",
        "      \"cidade\": \"Rio de Janeiro\"\n",
        "      \"endereços\": {\n",
        "        \"Rua real grandeza\",\n",
        "        \"Rua euclides da cunha\"\n",
        "      }\n",
        "  \n",
        "\n",
        "Podemos notar que a estrutura acima muito se parece com uma estrura de listas e dicionários em Python. JSON requer aspas para chaves e strings.\n",
        "\n",
        "Python possui suporte a JSON. Podemos carregar JSON de arquivos, urls ou declarar diretamente no código.\n",
        "\n",
        "\n"
      ],
      "metadata": {
        "id": "brmyIMiR4Aqz"
      }
    },
    {
      "cell_type": "code",
      "source": [
        "#Convertendo Strings em um dicionário\n",
        "\n",
        "import json\n",
        "\n",
        "dados_JSON =  \"\"\"\n",
        "{\n",
        "  \"nome\": \"Joca\",\n",
        "  \"sobrenome\": \"nunes\",\n",
        "  \"idade\": 41,\n",
        "  \"estavivo\": \"SIM\",\n",
        "  \"cidade\": \"Rio de Janeiro\"\n",
        "  }\n",
        "\"\"\"\n",
        "\n",
        "#converte a string JSON em um dicionário\n",
        "\n",
        "dados_dicionario = json.loads(dados_JSON)\n",
        "\n",
        "# Agora podemos tratar os dados como dicionários\n",
        "\n",
        "\n",
        "#Acessando uma chave específica\n",
        "\n",
        "print(dados_dicionario['idade']) \n",
        "\n",
        "#Imprimindo todas as chaves\n",
        "print (f\"Key: {dados_dicionario.keys()}\")\n",
        "\n",
        "\n"
      ],
      "metadata": {
        "colab": {
          "base_uri": "https://localhost:8080/"
        },
        "id": "-kmTxqD2eIkt",
        "outputId": "63fc5b84-3f0d-4bb0-f45f-e8477e4b45ba"
      },
      "execution_count": 18,
      "outputs": [
        {
          "output_type": "stream",
          "name": "stdout",
          "text": [
            "41\n",
            "Key: dict_keys(['nome', 'sobrenome', 'idade', 'estavivo', 'cidade'])\n"
          ]
        }
      ]
    },
    {
      "cell_type": "code",
      "source": [
        "#Carregando arquivos JSON diretamente de um url.\n",
        "\n",
        "import json\n",
        "import requests\n",
        "\n",
        "# A biblioteca requests \"baixa\" o dado com a função .get\n",
        "\n",
        "r = requests.get(\"https://api.github.com/\")\n",
        "\n",
        "# A biblioteca requets possui um decodificador json \n",
        "print(r.json())\n"
      ],
      "metadata": {
        "colab": {
          "base_uri": "https://localhost:8080/"
        },
        "id": "x0lrNUvGXlIk",
        "outputId": "d8dc01f4-cc61-48f0-8804-4048dd20287b"
      },
      "execution_count": 16,
      "outputs": [
        {
          "output_type": "stream",
          "name": "stdout",
          "text": [
            "{'current_user_url': 'https://api.github.com/user', 'current_user_authorizations_html_url': 'https://github.com/settings/connections/applications{/client_id}', 'authorizations_url': 'https://api.github.com/authorizations', 'code_search_url': 'https://api.github.com/search/code?q={query}{&page,per_page,sort,order}', 'commit_search_url': 'https://api.github.com/search/commits?q={query}{&page,per_page,sort,order}', 'emails_url': 'https://api.github.com/user/emails', 'emojis_url': 'https://api.github.com/emojis', 'events_url': 'https://api.github.com/events', 'feeds_url': 'https://api.github.com/feeds', 'followers_url': 'https://api.github.com/user/followers', 'following_url': 'https://api.github.com/user/following{/target}', 'gists_url': 'https://api.github.com/gists{/gist_id}', 'hub_url': 'https://api.github.com/hub', 'issue_search_url': 'https://api.github.com/search/issues?q={query}{&page,per_page,sort,order}', 'issues_url': 'https://api.github.com/issues', 'keys_url': 'https://api.github.com/user/keys', 'label_search_url': 'https://api.github.com/search/labels?q={query}&repository_id={repository_id}{&page,per_page}', 'notifications_url': 'https://api.github.com/notifications', 'organization_url': 'https://api.github.com/orgs/{org}', 'organization_repositories_url': 'https://api.github.com/orgs/{org}/repos{?type,page,per_page,sort}', 'organization_teams_url': 'https://api.github.com/orgs/{org}/teams', 'public_gists_url': 'https://api.github.com/gists/public', 'rate_limit_url': 'https://api.github.com/rate_limit', 'repository_url': 'https://api.github.com/repos/{owner}/{repo}', 'repository_search_url': 'https://api.github.com/search/repositories?q={query}{&page,per_page,sort,order}', 'current_user_repositories_url': 'https://api.github.com/user/repos{?type,page,per_page,sort}', 'starred_url': 'https://api.github.com/user/starred{/owner}{/repo}', 'starred_gists_url': 'https://api.github.com/gists/starred', 'topic_search_url': 'https://api.github.com/search/topics?q={query}{&page,per_page}', 'user_url': 'https://api.github.com/users/{user}', 'user_organizations_url': 'https://api.github.com/user/orgs', 'user_repositories_url': 'https://api.github.com/users/{user}/repos{?type,page,per_page,sort}', 'user_search_url': 'https://api.github.com/search/users?q={query}{&page,per_page,sort,order}'}\n"
          ]
        }
      ]
    },
    {
      "cell_type": "markdown",
      "source": [
        "Podemos ter a necessidade de converter dicionários Python em arquivos JSON, para isso usamos a função \"dumps\". Esta função retorna uma string."
      ],
      "metadata": {
        "id": "FKrRVPxQoRwl"
      }
    },
    {
      "cell_type": "code",
      "source": [
        "obj = {\"estilo\":\"samba\",\"duracao\":450,\"hit\":False}\n",
        "\n",
        "print(json.dumps(obj))\n",
        "\n",
        "#Repare que o último valor \"False\" foi alterado para \"false\". Isso porque em JSON esta é forma correta de se usar tipos binário.\n",
        "\n"
      ],
      "metadata": {
        "colab": {
          "base_uri": "https://localhost:8080/"
        },
        "id": "bX9hfTFvoj2N",
        "outputId": "282470f0-d5c6-43b6-8731-7d95a52dc76a"
      },
      "execution_count": 20,
      "outputs": [
        {
          "output_type": "stream",
          "name": "stdout",
          "text": [
            "{\"estilo\": \"samba\", \"duracao\": 450, \"hit\": false}\n"
          ]
        }
      ]
    },
    {
      "cell_type": "markdown",
      "source": [
        "Trabalhando com arquivos e JSON.\n",
        "\n",
        "Uma vez convertidos os dados em formato JSON. Muitas vezes teremos a necessidade de salva-los. Na plataforma Colab, podemos utilizar o google drive para salvar e carregar arquivos."
      ],
      "metadata": {
        "id": "FzvqzPrQumxf"
      }
    },
    {
      "cell_type": "code",
      "source": [
        "from google.colab import drive\n",
        "drive.mount('/content/drive')\n",
        "\n"
      ],
      "metadata": {
        "colab": {
          "base_uri": "https://localhost:8080/"
        },
        "id": "0aNfaBNKvHLC",
        "outputId": "4ae58860-b340-4c41-d43f-cfcf8db196fa"
      },
      "execution_count": 22,
      "outputs": [
        {
          "output_type": "stream",
          "name": "stdout",
          "text": [
            "Mounted at /content/drive\n"
          ]
        }
      ]
    },
    {
      "cell_type": "code",
      "source": [
        "\n",
        "#Carrega um arquivo JSON do Drive \n",
        "\n",
        "with open('/content/drive/My Drive/pizzas.json') as file:\n",
        "  dados = json.load(file)\n",
        "\n",
        "print(dados)\n",
        "\n",
        "\n",
        "\n"
      ],
      "metadata": {
        "colab": {
          "base_uri": "https://localhost:8080/",
          "height": 54
        },
        "id": "bN-Hk-yvwgCB",
        "outputId": "12348aaf-6759-4339-ecee-620a6cdb301b"
      },
      "execution_count": 32,
      "outputs": [
        {
          "output_type": "stream",
          "name": "stdout",
          "text": [
            "{'orders': [{'size': 'medium', 'price': 15.67, 'toppings': ['mushrooms', 'pepperoni', 'basil'], 'extra_cheese': False, 'delivery': True, 'client': {'name': 'Jane Doe', 'phone': None, 'email': 'janedoe@email.com'}}, {'size': 'small', 'price': 6.54, 'toppings': None, 'extra_cheese': True, 'delivery': False, 'client': {'name': 'Foo Jones', 'phone': '556-342-452', 'email': None}}]}\n"
          ]
        },
        {
          "output_type": "display_data",
          "data": {
            "text/plain": [
              "<IPython.core.display.Javascript object>"
            ],
            "application/javascript": [
              "\n",
              "    async function download(id, filename, size) {\n",
              "      if (!google.colab.kernel.accessAllowed) {\n",
              "        return;\n",
              "      }\n",
              "      const div = document.createElement('div');\n",
              "      const label = document.createElement('label');\n",
              "      label.textContent = `Downloading \"${filename}\": `;\n",
              "      div.appendChild(label);\n",
              "      const progress = document.createElement('progress');\n",
              "      progress.max = size;\n",
              "      div.appendChild(progress);\n",
              "      document.body.appendChild(div);\n",
              "\n",
              "      const buffers = [];\n",
              "      let downloaded = 0;\n",
              "\n",
              "      const channel = await google.colab.kernel.comms.open(id);\n",
              "      // Send a message to notify the kernel that we're ready.\n",
              "      channel.send({})\n",
              "\n",
              "      for await (const message of channel.messages) {\n",
              "        // Send a message to notify the kernel that we're ready.\n",
              "        channel.send({})\n",
              "        if (message.buffers) {\n",
              "          for (const buffer of message.buffers) {\n",
              "            buffers.push(buffer);\n",
              "            downloaded += buffer.byteLength;\n",
              "            progress.value = downloaded;\n",
              "          }\n",
              "        }\n",
              "      }\n",
              "      const blob = new Blob(buffers, {type: 'application/binary'});\n",
              "      const a = document.createElement('a');\n",
              "      a.href = window.URL.createObjectURL(blob);\n",
              "      a.download = filename;\n",
              "      div.appendChild(a);\n",
              "      a.click();\n",
              "      div.remove();\n",
              "    }\n",
              "  "
            ]
          },
          "metadata": {}
        },
        {
          "output_type": "display_data",
          "data": {
            "text/plain": [
              "<IPython.core.display.Javascript object>"
            ],
            "application/javascript": [
              "download(\"download_79e89844-9ec1-486c-a205-d60c93b988c0\", \"pizzas.json\", 496)"
            ]
          },
          "metadata": {}
        }
      ]
    },
    {
      "cell_type": "code",
      "source": [
        "# Salva um arquivo JSON no drive\n",
        "\n",
        "obj = {\"estilo\":\"samba\",\"duracao\":450,\"hit\":False}\n",
        "\n",
        "print(json.dumps(obj))\n",
        "\n",
        "dado = json.dumps(obj)\n",
        "\n",
        "with  open('/content/drive/My Drive/teste.json', 'w') as file:\n",
        "  file.write(dado)"
      ],
      "metadata": {
        "colab": {
          "base_uri": "https://localhost:8080/"
        },
        "id": "LZMAK0F1yKg5",
        "outputId": "8e1cbbba-1bb8-4075-cfc9-213e9948c391"
      },
      "execution_count": 36,
      "outputs": [
        {
          "output_type": "stream",
          "name": "stdout",
          "text": [
            "{\"estilo\": \"samba\", \"duracao\": 450, \"hit\": false}\n"
          ]
        }
      ]
    }
  ]
}