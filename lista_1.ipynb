{
  "nbformat": 4,
  "nbformat_minor": 0,
  "metadata": {
    "colab": {
      "name": "lista_1.ipynb",
      "provenance": [],
      "collapsed_sections": [],
      "authorship_tag": "ABX9TyP4fhJTuOocHsC7h0zxu0fS",
      "include_colab_link": true
    },
    "kernelspec": {
      "name": "python3",
      "display_name": "Python 3"
    },
    "language_info": {
      "name": "python"
    }
  },
  "cells": [
    {
      "cell_type": "markdown",
      "metadata": {
        "id": "view-in-github",
        "colab_type": "text"
      },
      "source": [
        "<a href=\"https://colab.research.google.com/github/nunesjoao/ENG1111/blob/main/lista_1.ipynb\" target=\"_parent\"><img src=\"https://colab.research.google.com/assets/colab-badge.svg\" alt=\"Open In Colab\"/></a>"
      ]
    },
    {
      "cell_type": "code",
      "execution_count": null,
      "metadata": {
        "id": "faGqsfkeyEJA"
      },
      "outputs": [],
      "source": []
    },
    {
      "cell_type": "markdown",
      "source": [
        "# Lista 1 (Listas, Dicionários, JSON)\n",
        "\n"
      ],
      "metadata": {
        "id": "J2_sDP8w0th-"
      }
    },
    {
      "cell_type": "markdown",
      "source": [
        "# 1)\n",
        "\n",
        "Crie uma função que receba como argumento uma lista de inteiros e strings e:\n",
        "\n",
        "\n",
        "\n",
        "\n",
        "1. Retorne um dicionário onde cada par chave-valor são respectivamente a string deletada e a quantidade de vezes que a string foi removida na lista\n",
        " \n",
        "\n",
        "\n",
        "\n",
        "ex: lista de entrada [8 ,6 ,'d' ,'f' , 10 ,'d', 45, 'g', 'g', 12]\n",
        "\n",
        "###    saída da função: {'d':2,'f':1,'g':2} \n",
        "\n",
        "Utilize a função isistance()"
      ],
      "metadata": {
        "id": "RtqIELby09f4"
      }
    },
    {
      "cell_type": "code",
      "source": [],
      "metadata": {
        "id": "W3_k1Vj74etK"
      },
      "execution_count": null,
      "outputs": []
    },
    {
      "cell_type": "markdown",
      "source": [
        "# 2)\n",
        "\n",
        "Crie uma função que receba uma lista de strings e retone uma nova lista seguindo os critérios abaixo:\n",
        "\n",
        "1 - Strings maiores que 5 caracteres devem ser removidas da nova lista\n",
        "2 - Strings que contenham a letra \"a\" deve ser substituídas pelo número de caracteres da string.\n",
        "\n",
        "\n",
        "Ex:\n",
        "\n",
        "Lista de entrada: ['testando','bolo','amor','caramelo']\n",
        "\n",
        "Saída: ['bolo',4,8]"
      ],
      "metadata": {
        "id": "zV6jpBXP5Y6b"
      }
    },
    {
      "cell_type": "code",
      "source": [],
      "metadata": {
        "id": "AkaH-CdkK-HN"
      },
      "execution_count": null,
      "outputs": []
    },
    {
      "cell_type": "markdown",
      "source": [
        "# 3)\n",
        "\n",
        "Crie uma função que receba duas listas e retorne um set com a união (operação de conjunto)"
      ],
      "metadata": {
        "id": "da8lQ_eXRtsz"
      }
    },
    {
      "cell_type": "code",
      "source": [],
      "metadata": {
        "id": "VLKbc5tjTXWP"
      },
      "execution_count": null,
      "outputs": []
    },
    {
      "cell_type": "markdown",
      "source": [
        "## 4)\n",
        "\n",
        "Crie um programa que dado um arquivo JSON disponível na internet, converta para um dicionário Python com os primeiros 100 registros.\n",
        "\n",
        "O arquivo JSON está disponível em:\n",
        "\n",
        "https://raw.githubusercontent.com/prust/wikipedia-movie-data/master/movies.json\n",
        "\n",
        "\n"
      ],
      "metadata": {
        "id": "_MddJv9fTY_1"
      }
    },
    {
      "cell_type": "code",
      "source": [],
      "metadata": {
        "id": "eBsBRZObWIH6"
      },
      "execution_count": null,
      "outputs": []
    },
    {
      "cell_type": "markdown",
      "source": [
        "# 5)\n",
        "\n",
        "Crie um programa que gere um arquivo JSON utilizando o dicionário do exercício anterior."
      ],
      "metadata": {
        "id": "FZl-0CzcWYbV"
      }
    }
  ]
}